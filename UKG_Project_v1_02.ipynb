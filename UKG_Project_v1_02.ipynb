{
  "nbformat": 4,
  "nbformat_minor": 0,
  "metadata": {
    "colab": {
      "provenance": [],
      "authorship_tag": "ABX9TyPFOh2CrTfV+sV+OE58H4MS",
      "include_colab_link": true
    },
    "kernelspec": {
      "name": "python3",
      "display_name": "Python 3"
    },
    "language_info": {
      "name": "python"
    }
  },
  "cells": [
    {
      "cell_type": "markdown",
      "metadata": {
        "id": "view-in-github",
        "colab_type": "text"
      },
      "source": [
        "<a href=\"https://colab.research.google.com/github/kmt81282/ActivityProject/blob/main/UKG_Project_v1_02.ipynb\" target=\"_parent\"><img src=\"https://colab.research.google.com/assets/colab-badge.svg\" alt=\"Open In Colab\"/></a>"
      ]
    },
    {
      "cell_type": "code",
      "execution_count": 33,
      "metadata": {
        "id": "d3MrH15CxkEI"
      },
      "outputs": [],
      "source": []
    },
    {
      "cell_type": "code",
      "source": [
        "!pip install Faker"
      ],
      "metadata": {
        "colab": {
          "base_uri": "https://localhost:8080/"
        },
        "id": "r_GI6iBK1kBm",
        "outputId": "47527368-4b9f-4e6d-fc38-c098b8d11709"
      },
      "execution_count": 44,
      "outputs": [
        {
          "output_type": "stream",
          "name": "stdout",
          "text": [
            "Requirement already satisfied: Faker in /usr/local/lib/python3.10/dist-packages (20.0.0)\n",
            "Requirement already satisfied: python-dateutil>=2.4 in /usr/local/lib/python3.10/dist-packages (from Faker) (2.8.2)\n",
            "Requirement already satisfied: six>=1.5 in /usr/local/lib/python3.10/dist-packages (from python-dateutil>=2.4->Faker) (1.16.0)\n"
          ]
        }
      ]
    },
    {
      "cell_type": "code",
      "source": [
        "import sqlite3\n",
        "from faker import Faker"
      ],
      "metadata": {
        "id": "kjFiZh6WxtnH"
      },
      "execution_count": 162,
      "outputs": []
    },
    {
      "cell_type": "code",
      "source": [
        "\n",
        "import sqlite3\n",
        "import os\n",
        "import random\n",
        "\n",
        "database_name = 'UKG_Project_v_01.db'\n",
        "\n",
        "# Check if the database file already exists\n",
        "if os.path.exists(database_name):\n",
        "    # If it exists, delete the old file\n",
        "    os.remove(database_name)\n",
        "\n",
        "# Connect to the database (or create a new one if it doesn't exist)\n",
        "conn = sqlite3.connect(database_name)\n",
        "\n",
        "# Create a cursor object to execute SQL statements\n",
        "cursor = conn.cursor()\n",
        "\n",
        "# SQL statement to create the Employee_Personal_Table\n",
        "create_table_query = '''\n",
        "CREATE TABLE IF NOT EXISTS Employee_Personal (\n",
        "    EEID VARCHAR(15) PRIMARY KEY,\n",
        "    emp_First_Name VARCHAR(50) NOT NULL,\n",
        "    emp_Last_Name VARCHAR(50) NOT NULL,\n",
        "    emp_Middle_Name VARCHAR(50) NOT NULL,\n",
        "    emp_Date_Of_Birth DATE NOT NULL,\n",
        "    emp_SSN VARCHAR(10) NOT NULL,\n",
        "    emp_Address_Line1 VARCHAR(25) NOT NULL,\n",
        "    emp_City VARCHAR(25) NOT NULL,\n",
        "    emp_Zip_Code VARCHAR(5) NOT NULL,\n",
        "    emp_State VARCHAR(2) NOT NULL,\n",
        "    emp_Country VARCHAR(3) NOT NULL,\n",
        "    emp_Gender VARCHAR(1) NULL\n",
        ");\n",
        "'''\n",
        "# Execute the SQL statement\n",
        "cursor.execute(create_table_query)\n",
        "print(\"Employee Personal Created\")\n",
        "\n",
        "# SQL statement to create the Department Table\n",
        "create_table_query = '''\n",
        "CREATE TABLE IF NOT EXISTS department (\n",
        "    department_ID INT NOT NULL PRIMARY KEY,\n",
        "    deparment_name VARCHAR(50),\n",
        "    dep_head_EEID VARCHAR(15)\n",
        ");\n",
        "'''\n",
        "# Execute the SQL statement\n",
        "cursor.execute(create_table_query)\n",
        "print(\"Department Created\")\n",
        "\n",
        "# Commit the changes and close the connection\n",
        "conn.commit()\n",
        "conn.close()"
      ],
      "metadata": {
        "id": "GvFFb3MzxuAn",
        "colab": {
          "base_uri": "https://localhost:8080/"
        },
        "outputId": "5ef41190-046d-442a-ad8b-0c0a19c17c6b"
      },
      "execution_count": 163,
      "outputs": [
        {
          "output_type": "stream",
          "name": "stdout",
          "text": [
            "Employee Personal Created\n",
            "Department Created\n"
          ]
        }
      ]
    },
    {
      "cell_type": "code",
      "source": [
        "\n",
        "# Connect to the database\n",
        "conn = sqlite3.connect(database_name)\n",
        "cursor = conn.cursor()\n",
        "\n",
        "fake = Faker()\n",
        "\n",
        "# Number of records to generate\n",
        "NUM_Employee_Personal = 100\n",
        "NUM_deparment = 5\n",
        "#NUM_job = 20\n",
        "#NUM_earn = 3\n",
        "\n",
        "print(\"Varables Created\")"
      ],
      "metadata": {
        "colab": {
          "base_uri": "https://localhost:8080/"
        },
        "id": "Eb7kovglze2P",
        "outputId": "e6ab1a18-c117-4adf-f807-86053bb88127"
      },
      "execution_count": 164,
      "outputs": [
        {
          "output_type": "stream",
          "name": "stdout",
          "text": [
            "Varables Created\n"
          ]
        }
      ]
    },
    {
      "cell_type": "code",
      "source": [
        "# Insert Employee Personal\n",
        "EEID = 9000001\n",
        "\n",
        "gender = ['M','F','N', '']\n",
        "\n",
        "for _ in range(NUM_Employee_Personal):\n",
        "    EEID = EEID\n",
        "    emp_First_Name = fake.first_name()\n",
        "    emp_Last_Name = fake.last_name()\n",
        "    emp_Middle_Name = fake.first_name()\n",
        "    emp_Date_Of_Birth = fake.date_of_birth(None,18,65)\n",
        "    emp_SSN = fake.ssn()\n",
        "    emp_Address_Line1 = fake.street_address()\n",
        "    emp_City = fake.city()\n",
        "    emp_Zip_Code = fake.postalcode()\n",
        "    emp_State = fake.state_abbr(include_territories=False, include_freely_associated_states=False)\n",
        "    emp_Country = 'USA'\n",
        "    emp_Gender = random.choice(gender)\n",
        "    cursor.execute(\n",
        "        \"INSERT INTO Employee_Personal (EEID, emp_First_Name, emp_Last_Name, emp_Middle_Name, emp_Date_Of_Birth, emp_SSN, emp_Address_Line1, emp_City, emp_Zip_Code, emp_State, emp_Country, emp_Gender) VALUES (?,?,?,?, ?, ?, ?, ?,?,?,?,?)\",\n",
        "        (EEID, emp_First_Name, emp_Last_Name, emp_Middle_Name, emp_Date_Of_Birth, emp_SSN, emp_Address_Line1, emp_City, emp_Zip_Code, emp_State, emp_Country, emp_Gender)\n",
        "    )\n",
        "    EEID += 1\n",
        "\n",
        "\n"
      ],
      "metadata": {
        "id": "ewjQDEhsETtK"
      },
      "execution_count": 159,
      "outputs": []
    },
    {
      "cell_type": "code",
      "source": [
        "\n",
        "# Insert Department Options\n",
        "create_table_query = '''\n",
        "INSERT INTO department (department_ID, deparment_name, dep_head_EEID) VALUES\n",
        "    (1, 'Human Resources', 'HR_Head1'),\n",
        "    (2, 'Finance', 'Finance_Head1'),\n",
        "    (3, 'Information Technology', 'IT_Head1'),\n",
        "    (4, 'Marketing', 'Marketing_Head1'),\n",
        "    (5, 'Operations', 'Operations_Head1');\n",
        "'''\n",
        "# Execute the SQL statement\n",
        "cursor.execute(create_table_query)\n",
        "\n",
        "print(\"Departments Imported\")"
      ],
      "metadata": {
        "colab": {
          "base_uri": "https://localhost:8080/"
        },
        "id": "rN25F5GDOobM",
        "outputId": "0aeb3ca6-0c45-43dc-8d12-0c49096ce393"
      },
      "execution_count": 160,
      "outputs": [
        {
          "output_type": "stream",
          "name": "stdout",
          "text": [
            "Departments Imported\n"
          ]
        }
      ]
    },
    {
      "cell_type": "code",
      "source": [
        "#Update Department Head\n",
        "\n",
        "countID = 1\n",
        "\n",
        "for _ in range(NUM_deparment):\n",
        "    dep_head_EEID = fake.random_int(min= 9000001, max = (9000001 + NUM_Employee_Personal), step = 1)\n",
        "    cursor.execute(\n",
        "            \"UPDATE department set dep_head_EEID = ? WHERE department_ID = ?\",\n",
        "            (dep_head_EEID, countID))\n",
        "    countID == countID + 1\n",
        "\n",
        "\n"
      ],
      "metadata": {
        "id": "dIYGQvxoUp76"
      },
      "execution_count": 165,
      "outputs": []
    },
    {
      "cell_type": "code",
      "source": [
        "conn.commit()\n",
        "cursor.close()\n",
        "conn.close()\n",
        "\n",
        "print(\"Simulation data inserted!\")"
      ],
      "metadata": {
        "colab": {
          "base_uri": "https://localhost:8080/"
        },
        "id": "OJVGdJqU05xg",
        "outputId": "2bb0e949-6b96-4755-a2a7-d2fc5e99e153"
      },
      "execution_count": 166,
      "outputs": [
        {
          "output_type": "stream",
          "name": "stdout",
          "text": [
            "Simulation data inserted!\n"
          ]
        }
      ]
    }
  ]
}