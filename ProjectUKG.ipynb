{
  "nbformat": 4,
  "nbformat_minor": 0,
  "metadata": {
    "colab": {
      "provenance": [],
      "include_colab_link": true
    },
    "kernelspec": {
      "name": "python3",
      "display_name": "Python 3"
    },
    "language_info": {
      "name": "python"
    }
  },
  "cells": [
    {
      "cell_type": "markdown",
      "metadata": {
        "id": "view-in-github",
        "colab_type": "text"
      },
      "source": [
        "<a href=\"https://colab.research.google.com/github/kmt81282/ActivityProject/blob/main/ProjectUKG.ipynb\" target=\"_parent\"><img src=\"https://colab.research.google.com/assets/colab-badge.svg\" alt=\"Open In Colab\"/></a>"
      ]
    },
    {
      "cell_type": "code",
      "source": [
        "!pip install Faker"
      ],
      "metadata": {
        "colab": {
          "base_uri": "https://localhost:8080/"
        },
        "id": "r_GI6iBK1kBm",
        "outputId": "2d59bcf0-a28a-44ba-b469-f7a011f147db"
      },
      "execution_count": 5,
      "outputs": [
        {
          "output_type": "stream",
          "name": "stdout",
          "text": [
            "Collecting Faker\n",
            "  Downloading Faker-19.13.0-py3-none-any.whl (1.7 MB)\n",
            "\u001b[2K     \u001b[90m━━━━━━━━━━━━━━━━━━━━━━━━━━━━━━━━━━━━━━━━\u001b[0m \u001b[32m1.7/1.7 MB\u001b[0m \u001b[31m16.2 MB/s\u001b[0m eta \u001b[36m0:00:00\u001b[0m\n",
            "\u001b[?25hRequirement already satisfied: python-dateutil>=2.4 in /usr/local/lib/python3.10/dist-packages (from Faker) (2.8.2)\n",
            "Requirement already satisfied: six>=1.5 in /usr/local/lib/python3.10/dist-packages (from python-dateutil>=2.4->Faker) (1.16.0)\n",
            "Installing collected packages: Faker\n",
            "Successfully installed Faker-19.13.0\n"
          ]
        }
      ]
    },
    {
      "cell_type": "code",
      "execution_count": 107,
      "metadata": {
        "id": "j6_2waeH1aXs"
      },
      "outputs": [],
      "source": [
        "import sqlite3\n",
        "from faker import Faker"
      ]
    },
    {
      "cell_type": "code",
      "source": [
        "import sqlite3\n",
        "\n",
        "# Database file path\n",
        "DATABASE_PATH = 'UKG_Project.db'  # e.g., 'simulated_data.db'\n",
        "\n",
        "# Connect to the database\n",
        "conn = sqlite3.connect(DATABASE_PATH)\n",
        "cursor = conn.cursor()\n",
        "\n",
        "# Create empPers table\n",
        "cursor.execute(\"\"\"\n",
        "CREATE TABLE empPers (\n",
        "    auditKey INTEGER PRIMARY KEY,\n",
        "    empEEID INTEGER NOT NULL UNIQUE,\n",
        "    empFirstName TEXT NOT NULL,\n",
        "    empLastName TEXT NOT NULL,\n",
        "    empPersonalEmail TEXT UNIQUE NOT NULL,\n",
        "    empdateOfBirth DATE NOT NULL,\n",
        "    empSSN INTEGER NOT NULL,\n",
        "    empGender VARCHAR(1) NULL\n",
        ")\n",
        "\"\"\")\n",
        "\n",
        "# Create empComp table\n",
        "cursor.execute(\"\"\"\n",
        "CREATE TABLE empComp (\n",
        "    auditKey INTEGER PRIMARY KEY AUTOINCREMENT,\n",
        "    eecDateOfOriginalHire Date NOT NULL,\n",
        "    eecDateOfTermination Date NULL,\n",
        "    empEEID INTERGER,\n",
        "    eecWorkEmail TEST UNIQUE NULL,\n",
        "    jobJobCode VARCHAR(6),\n",
        "    FOREIGN KEY (empeeID) REFERENCES empPers(empeeID),\n",
        "    FOREIGN KEY (jobJobCode) REFERENCES jobs(jobJobCode)\n",
        "\n",
        ")\n",
        "\"\"\")\n",
        "\n",
        "# Create Job table\n",
        "cursor.execute(\"\"\"\n",
        "CREATE TABLE jobs (\n",
        "    AuditKey INTEGER PRIMARY KEY AUTOINCREMENT,\n",
        "    jobJobCode VARCHAR(6) NOT NULL UNIQUE,\n",
        "    jobJobDesc VARCHAR(200) NOT NULL,\n",
        "    jobRateOfPay REAL NOT NULL\n",
        ")\n",
        "\"\"\")\n",
        "\n",
        "# Create earn table\n",
        "cursor.execute(\"\"\"\n",
        "CREATE TABLE jobs (\n",
        "    AuditKey INTEGER PRIMARY KEY AUTOINCREMENT,\n",
        "    earnCode VARCHAR(6) NOT NULL UNIQUE,\n",
        "    earnDesc VARCHAR(200) NOT NULL,\n",
        "    earnType VARCHAR(3)\n",
        ")\n",
        "\"\"\")\n",
        "\n",
        "conn.commit()\n",
        "cursor.close()\n",
        "conn.close()\n",
        "\n",
        "print(\"Tables created!\")"
      ],
      "metadata": {
        "colab": {
          "base_uri": "https://localhost:8080/"
        },
        "id": "QGBcO9Na3zvq",
        "outputId": "4b89170c-dbb9-4fe7-a3c7-9786fabee29d"
      },
      "execution_count": 108,
      "outputs": [
        {
          "output_type": "stream",
          "name": "stdout",
          "text": [
            "Tables created!\n"
          ]
        }
      ]
    },
    {
      "cell_type": "code",
      "source": [
        "# Connect to the database\n",
        "conn = sqlite3.connect(DATABASE_PATH)\n",
        "cursor = conn.cursor()\n",
        "\n",
        "fake = Faker()\n",
        "\n",
        "# Number of records to generate\n",
        "NUM_empPers = 100\n",
        "NUM_empComp = 100\n",
        "NUM_job = 20\n",
        "\n",
        "print(\"Varables Created\")"
      ],
      "metadata": {
        "id": "tTS2gf_T1dx1",
        "colab": {
          "base_uri": "https://localhost:8080/"
        },
        "outputId": "78d8a97d-52f9-48ba-9a67-3cbfd848b569"
      },
      "execution_count": 109,
      "outputs": [
        {
          "output_type": "stream",
          "name": "stdout",
          "text": [
            "Varables Created\n"
          ]
        }
      ]
    },
    {
      "cell_type": "code",
      "source": [
        "# Insert empPers information\n",
        "\n",
        "empEEID = 9900\n",
        "for _ in range(NUM_empPers):\n",
        "    empEEID = empEEID + 100\n",
        "    empFirstName = fake.first_name()\n",
        "    empLastName = fake.last_name()\n",
        "    tempEmail = [empFirstName, empLastName, '@', fake.free_email_domain()]\n",
        "    empEmail = ''.join(tempEmail)\n",
        "    empDateOfBirth = fake.date_of_birth(None,18,72)\n",
        "    empSSN = fake.ssn()\n",
        "    tempGender = fake.null_boolean()\n",
        "    if tempGender == 0:\n",
        "                  empGender = 'M'\n",
        "    elif tempGender == 1:\n",
        "                  empGender = 'F'\n",
        "    else: empGender = 'N'\n",
        "\n",
        "    cursor.execute(\n",
        "        \"INSERT INTO empPers (empFirstName, empLastName, empemail, empDateOfBirth, empSSN, empEEID, empGender) VALUES (?, ?, ?, ?, ?, ?, ?)\",\n",
        "        (empFirstName, empLastName, empEmail, empDateOfBirth, empSSN, empEEID, empGender )\n",
        "\n",
        "    )"
      ],
      "metadata": {
        "id": "8bXmSHZw3D_o"
      },
      "execution_count": 110,
      "outputs": []
    },
    {
      "cell_type": "code",
      "source": [
        "from pickle import TRUE\n",
        "# Insert empComp\n",
        "empEEID = 9900\n",
        "for _ in range(NUM_empComp):\n",
        "    eecdateOfOriginalHire = fake.date_this_decade(TRUE)  # Running date from decade before today\n",
        "    empEEID = empEEID + 100\n",
        "    jobJobCode = fake.random_int(min = 1100, max = 4000, step = 100)\n",
        "    cursor.execute(\n",
        "        \"INSERT INTO empComp (eecdateOfOriginalHire, empeeID, jobjobCode) VALUES (?,?,?)\",\n",
        "        (eecdateOfOriginalHire, empEEID, jobJobCode)\n",
        "    )\n",
        "\n"
      ],
      "metadata": {
        "id": "9OXH52Xt3B7K"
      },
      "execution_count": 111,
      "outputs": []
    },
    {
      "cell_type": "code",
      "source": [
        "# Insert jobs\n",
        "jobJobCode = 1000\n",
        "for _ in range(NUM_job):\n",
        "    jobJobCode = jobJobCode + 100\n",
        "    jobJobDesc = fake.job()\n",
        "    jobRateOfPay = fake.random_number(digits=4, fix_len=False) / 100\n",
        "    cursor.execute(\n",
        "        \"INSERT INTO jobs (jobJobCode, jobJobDesc, jobRateOfPay) VALUES (?, ?,?)\",\n",
        "        (jobJobCode, jobJobDesc, jobRateOfPay)\n",
        "    )\n"
      ],
      "metadata": {
        "id": "QwgXxLVx3GdK"
      },
      "execution_count": 112,
      "outputs": []
    },
    {
      "cell_type": "code",
      "source": [],
      "metadata": {
        "id": "d_QnQiJH0mVl"
      },
      "execution_count": null,
      "outputs": []
    },
    {
      "cell_type": "code",
      "source": [
        "conn.commit()\n",
        "cursor.close()\n",
        "conn.close()\n",
        "\n",
        "print(\"Simulation data inserted!\")"
      ],
      "metadata": {
        "colab": {
          "base_uri": "https://localhost:8080/"
        },
        "id": "zq99U_Xc3HwG",
        "outputId": "1bd498d6-f770-4a0a-a2dc-beea1aff6e50"
      },
      "execution_count": 113,
      "outputs": [
        {
          "output_type": "stream",
          "name": "stdout",
          "text": [
            "Simulation data inserted!\n"
          ]
        }
      ]
    }
  ]
}