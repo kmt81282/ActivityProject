{
  "nbformat": 4,
  "nbformat_minor": 0,
  "metadata": {
    "colab": {
      "provenance": [],
      "include_colab_link": true
    },
    "kernelspec": {
      "name": "python3",
      "display_name": "Python 3"
    },
    "language_info": {
      "name": "python"
    }
  },
  "cells": [
    {
      "cell_type": "markdown",
      "metadata": {
        "id": "view-in-github",
        "colab_type": "text"
      },
      "source": [
        "<a href=\"https://colab.research.google.com/github/kmt81282/ActivityProject/blob/main/ProjectUKG.ipynb\" target=\"_parent\"><img src=\"https://colab.research.google.com/assets/colab-badge.svg\" alt=\"Open In Colab\"/></a>"
      ]
    },
    {
      "cell_type": "code",
      "source": [
        "!pip install Faker"
      ],
      "metadata": {
        "colab": {
          "base_uri": "https://localhost:8080/"
        },
        "id": "r_GI6iBK1kBm",
        "outputId": "0ca87786-8da7-4475-befa-e0fc77444df5"
      },
      "execution_count": 2,
      "outputs": [
        {
          "output_type": "stream",
          "name": "stdout",
          "text": [
            "Collecting Faker\n",
            "  Downloading Faker-19.13.0-py3-none-any.whl (1.7 MB)\n",
            "\u001b[2K     \u001b[90m━━━━━━━━━━━━━━━━━━━━━━━━━━━━━━━━━━━━━━━━\u001b[0m \u001b[32m1.7/1.7 MB\u001b[0m \u001b[31m19.3 MB/s\u001b[0m eta \u001b[36m0:00:00\u001b[0m\n",
            "\u001b[?25hRequirement already satisfied: python-dateutil>=2.4 in /usr/local/lib/python3.10/dist-packages (from Faker) (2.8.2)\n",
            "Requirement already satisfied: six>=1.5 in /usr/local/lib/python3.10/dist-packages (from python-dateutil>=2.4->Faker) (1.16.0)\n",
            "Installing collected packages: Faker\n",
            "Successfully installed Faker-19.13.0\n"
          ]
        }
      ]
    },
    {
      "cell_type": "code",
      "execution_count": 73,
      "metadata": {
        "id": "j6_2waeH1aXs"
      },
      "outputs": [],
      "source": [
        "import sqlite3\n",
        "from faker import Faker"
      ]
    },
    {
      "cell_type": "code",
      "source": [
        "import sqlite3\n",
        "\n",
        "# Database file path\n",
        "DATABASE_PATH = 'UKG_Project.db'  # e.g., 'simulated_data.db'\n",
        "\n",
        "# Connect to the database\n",
        "conn = sqlite3.connect(DATABASE_PATH)\n",
        "cursor = conn.cursor()\n",
        "\n",
        "# Create empPers table\n",
        "cursor.execute(\"\"\"\n",
        "CREATE TABLE empPers (\n",
        "    auditKey INTEGER,\n",
        "    empEEID INTEGER NOT NULL UNIQUE PRIMARY KEY,\n",
        "    empFirstName TEXT NOT NULL,\n",
        "    empLastName TEXT NOT NULL,\n",
        "    empPersonalEmail TEXT UNIQUE NULL,\n",
        "    empdateOfBirth DATE NOT NULL,\n",
        "    empSSN INTEGER NOT NULL,\n",
        "    empGender VARCHAR(1) NULL,\n",
        "    empAddressLineOne VARCHAR(50) NULL,\n",
        "    empCity VARCHAR(25) NULL,\n",
        "    TaxlocalZip INTEGER NULL,\n",
        "    empState VARCHAR(25) NULL\n",
        ")\n",
        "\"\"\")\n",
        "\n",
        "# Create empComp table\n",
        "cursor.execute(\"\"\"\n",
        "CREATE TABLE empComp (\n",
        "    auditKey INTEGER PRIMARY KEY AUTOINCREMENT,\n",
        "    eecDateOfOriginalHire Date NOT NULL,\n",
        "    eecDateOfTermination Date NULL,\n",
        "    empEEID INTERGER,\n",
        "    eecWorkEmail TEST UNIQUE NULL,\n",
        "    jobJobCode VARCHAR(6) NOT NULL,\n",
        "    payPayGroup VARCHAR(3) NOT NULL,\n",
        "    FOREIGN KEY (empeeID) REFERENCES empPers(empeeID),\n",
        "    FOREIGN KEY (jobJobCode) REFERENCES jobs(jobJobCode),\n",
        "    FOREIGN KEY (payPayGroup) REFERENCES payGroup(payPayGroup)\n",
        "\n",
        ")\n",
        "\"\"\")\n",
        "\n",
        "# Create Job table\n",
        "cursor.execute(\"\"\"\n",
        "CREATE TABLE jobs (\n",
        "    jobJobCode INTEGER UNIQUE NOT NULL,\n",
        "    jobJobDesc VARCHAR(200) NOT NULL,\n",
        "    jobRateOfPay REAL NOT NULL,\n",
        "    jobSalaryOrHourly VARCHAR(1) NOT NULL,\n",
        "    PRIMARY KEY (\"jobjobCode\")\n",
        ")\n",
        "\"\"\")\n",
        "\n",
        "# Create earn table\n",
        "cursor.execute(\"\"\"\n",
        "CREATE TABLE earning (\n",
        "    earnCode VARCHAR(6) NOT NULL UNIQUE PRIMARY KEY,\n",
        "    earnDesc VARCHAR(200) NOT NULL\n",
        ")\n",
        "\"\"\")\n",
        "\n",
        "# Create Pay Group\n",
        "cursor.execute(\"\"\"\n",
        "CREATE TABLE payGroup (\n",
        "    payPayGroup VARCHAR(6) NOT NULL UNIQUE PRIMARY KEY,\n",
        "    earnCodes VARCHAR(200) NOT NULL,\n",
        "    payFrequency VARCHAR(1) NOT NULL\n",
        "\n",
        ")\n",
        "\"\"\")\n",
        "\n",
        "\n",
        "\n",
        "conn.commit()\n",
        "cursor.close()\n",
        "conn.close()\n",
        "\n",
        "print(\"Tables created!\")"
      ],
      "metadata": {
        "colab": {
          "base_uri": "https://localhost:8080/"
        },
        "id": "QGBcO9Na3zvq",
        "outputId": "57ea5540-5747-4dc3-8993-d2f1ba1ad946"
      },
      "execution_count": 74,
      "outputs": [
        {
          "output_type": "stream",
          "name": "stdout",
          "text": [
            "Tables created!\n"
          ]
        }
      ]
    },
    {
      "cell_type": "code",
      "source": [
        "# Connect to the database\n",
        "conn = sqlite3.connect(DATABASE_PATH)\n",
        "cursor = conn.cursor()\n",
        "\n",
        "fake = Faker()\n",
        "\n",
        "# Number of records to generate\n",
        "NUM_empPers = 100\n",
        "NUM_empComp = 100\n",
        "NUM_job = 20\n",
        "NUM_earn = 3\n",
        "\n",
        "print(\"Varables Created\")"
      ],
      "metadata": {
        "id": "tTS2gf_T1dx1",
        "colab": {
          "base_uri": "https://localhost:8080/"
        },
        "outputId": "613c5aea-61fe-4d31-ff8d-0ef7a5410a2f"
      },
      "execution_count": 75,
      "outputs": [
        {
          "output_type": "stream",
          "name": "stdout",
          "text": [
            "Varables Created\n"
          ]
        }
      ]
    },
    {
      "cell_type": "code",
      "source": [
        "# Insert empPers information\n",
        "\n",
        "empEEID = 9900\n",
        "for _ in range(NUM_empPers):\n",
        "    empEEID = empEEID + 100\n",
        "    empFirstName = fake.first_name()\n",
        "    empLastName = fake.last_name()\n",
        "    tempEmail = [empFirstName, empLastName, '@', fake.free_email_domain()]\n",
        "    empPersonalEmail = ''.join(tempEmail)\n",
        "    empDateOfBirth = fake.date_of_birth(None,18,72)\n",
        "    empSSN = fake.ssn()\n",
        "    tempGender = fake.null_boolean()\n",
        "    if tempGender == 0:\n",
        "                  empGender = 'M'\n",
        "    elif tempGender == 1:\n",
        "                  empGender = 'F'\n",
        "    else: empGender = 'N'\n",
        "    empAddressLineOne = fake.street_address()\n",
        "    empCity = fake.city()\n",
        "    taxLocalZip = fake.postcode()\n",
        "    empState = fake.state()\n",
        "\n",
        "\n",
        "\n",
        "    cursor.execute(\n",
        "        \"INSERT INTO empPers (empFirstName, empLastName, empPersonalEmail, empDateOfBirth, empSSN, empEEID, empGender, empAddressLineOne, empCity, TaxLocalZip, empState) VALUES (?, ?, ?, ?, ?, ?, ?, ?,?, ?, ?)\",\n",
        "        (empFirstName, empLastName, empPersonalEmail, empDateOfBirth, empSSN, empEEID, empGender, empAddressLineOne, empCity, taxLocalZip, empState)\n",
        "\n",
        "    )"
      ],
      "metadata": {
        "id": "8bXmSHZw3D_o"
      },
      "execution_count": 76,
      "outputs": []
    },
    {
      "cell_type": "markdown",
      "source": [],
      "metadata": {
        "id": "HiBoxMnW5nn2"
      }
    },
    {
      "cell_type": "code",
      "source": [
        "from pickle import TRUE\n",
        "# Insert empComp\n",
        "empEEID = 9900\n",
        "for _ in range(NUM_empComp):\n",
        "    eecdateOfOriginalHire = fake.date_this_decade(TRUE)  # Running date from decade before today\n",
        "    empEEID = empEEID + 100\n",
        "    jobJobCode = fake.random_int(min = 1100, max = 4000, step = 100)\n",
        "    tempPayGroup = fake.null_boolean()\n",
        "    if tempPayGroup == '0':\n",
        "      payPayGroup = 'WKL'\n",
        "    elif tempPayGroup == '1':\n",
        "      payPayGroup = 'BWK'\n",
        "    else: payPayGroup = 'SML'\n",
        "    cursor.execute(\n",
        "        \"INSERT INTO empComp (eecdateOfOriginalHire, empeeID, jobjobCode, payPayGroup) VALUES (?,?,?, ?)\",\n",
        "        (eecdateOfOriginalHire, empEEID, jobJobCode, payPayGroup)\n",
        "    )\n",
        "\n"
      ],
      "metadata": {
        "id": "9OXH52Xt3B7K"
      },
      "execution_count": null,
      "outputs": []
    },
    {
      "cell_type": "code",
      "source": [
        "\n",
        "# Insert jobs\n",
        "jobJobCode = 1000\n",
        "for _ in range(NUM_job):\n",
        "    jobJobCode = jobJobCode + 100\n",
        "    jobJobDesc = fake.job()\n",
        "    jobRateOfPay = fake.random_number(digits=4, fix_len=False) / 100\n",
        "    tempjobSalaryOrHourly = fake.boolean(chance_of_getting_true=50)\n",
        "    if tempjobSalaryOrHourly is True:\n",
        "                                jobSalaryOrHourly = 'S'\n",
        "    else: jobSalaryOrHourly = 'H'\n",
        "    cursor.execute(\n",
        "        \"INSERT INTO jobs (jobJobCode, jobJobDesc, jobRateOfPay, jobSalaryOrHourly) VALUES (?, ?,?, ?)\",\n",
        "        (jobJobCode, jobJobDesc, jobRateOfPay, jobSalaryOrHourly)\n",
        "    )\n"
      ],
      "metadata": {
        "id": "QwgXxLVx3GdK"
      },
      "execution_count": 78,
      "outputs": []
    },
    {
      "cell_type": "code",
      "source": [
        "# Insert earning code\n",
        "\n",
        "    cursor.execute(\n",
        "        \"INSERT INTO earning (earnCode, earnDesc) VALUES ('REG','Regular Earning')\"\n",
        "        \"INSERT INTO earning (earnCode, earnDesc) VALUES ('REG','Regular Earning')\",\n",
        "\n",
        "    )"
      ],
      "metadata": {
        "id": "d_QnQiJH0mVl",
        "outputId": "bbefdf7e-eab8-4097-8031-e1e470bbe93e",
        "colab": {
          "base_uri": "https://localhost:8080/",
          "height": 140
        }
      },
      "execution_count": 81,
      "outputs": [
        {
          "output_type": "error",
          "ename": "IndentationError",
          "evalue": "ignored",
          "traceback": [
            "\u001b[0;36m  File \u001b[0;32m\"<ipython-input-81-03dcfe8b2a24>\"\u001b[0;36m, line \u001b[0;32m3\u001b[0m\n\u001b[0;31m    cursor.execute(\u001b[0m\n\u001b[0m    ^\u001b[0m\n\u001b[0;31mIndentationError\u001b[0m\u001b[0;31m:\u001b[0m unexpected indent\n"
          ]
        }
      ]
    },
    {
      "cell_type": "code",
      "source": [
        "conn.commit()\n",
        "cursor.close()\n",
        "conn.close()\n",
        "\n",
        "print(\"Simulation data inserted!\")"
      ],
      "metadata": {
        "colab": {
          "base_uri": "https://localhost:8080/"
        },
        "id": "zq99U_Xc3HwG",
        "outputId": "6fa419c7-67fa-492c-912a-d3fcf3c28ae3"
      },
      "execution_count": 56,
      "outputs": [
        {
          "output_type": "stream",
          "name": "stdout",
          "text": [
            "Simulation data inserted!\n"
          ]
        }
      ]
    }
  ]
}